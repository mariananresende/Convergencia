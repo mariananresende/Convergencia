{
 "cells": [
  {
   "cell_type": "code",
   "execution_count": 1,
   "metadata": {
    "id": "5WXhf2_L4xcs"
   },
   "outputs": [],
   "source": [
    "import pandas as pd\n",
    "import numpy as np\n",
    "import matplotlib.pyplot as plt\n",
    "import seaborn as sns\n",
    "import os\n",
    "from bs4 import BeautifulSoup\n",
    "import requests\n",
    "import warnings\n",
    "warnings.filterwarnings('ignore')"
   ]
  },
  {
   "cell_type": "code",
   "execution_count": 2,
   "metadata": {
    "id": "65qyF2kE5Bw8"
   },
   "outputs": [
    {
     "ename": "FileNotFoundError",
     "evalue": "[WinError 3] O sistema não pode encontrar o caminho especificado: '/content/drive/MyDrive/Bases de Dados para Indicadores EUROFOUND/Base de Dados'",
     "output_type": "error",
     "traceback": [
      "\u001b[1;31m---------------------------------------------------------------------------\u001b[0m",
      "\u001b[1;31mFileNotFoundError\u001b[0m                         Traceback (most recent call last)",
      "Cell \u001b[1;32mIn[2], line 2\u001b[0m\n\u001b[0;32m      1\u001b[0m \u001b[38;5;66;03m#Carregando nosso DF\u001b[39;00m\n\u001b[1;32m----> 2\u001b[0m os\u001b[38;5;241m.\u001b[39mchdir(\u001b[38;5;124m'\u001b[39m\u001b[38;5;124m/content/drive/MyDrive/Bases de Dados para Indicadores EUROFOUND/Base de Dados\u001b[39m\u001b[38;5;124m'\u001b[39m)\n\u001b[0;32m      3\u001b[0m homicide_rate_states \u001b[38;5;241m=\u001b[39m pd\u001b[38;5;241m.\u001b[39mread_csv(\u001b[38;5;124m'\u001b[39m\u001b[38;5;124mtaxa_homicidios_est.csv\u001b[39m\u001b[38;5;124m'\u001b[39m, sep \u001b[38;5;241m=\u001b[39m \u001b[38;5;124m'\u001b[39m\u001b[38;5;124m;\u001b[39m\u001b[38;5;124m'\u001b[39m)\n",
      "\u001b[1;31mFileNotFoundError\u001b[0m: [WinError 3] O sistema não pode encontrar o caminho especificado: '/content/drive/MyDrive/Bases de Dados para Indicadores EUROFOUND/Base de Dados'"
     ]
    }
   ],
   "source": [
    "#Carregando nosso DF\n",
    "os.chdir('/content/drive/MyDrive/Bases de Dados para Indicadores EUROFOUND/Base de Dados')\n",
    "homicide_rate_states = pd.read_csv('taxa_homicidios_est.csv', sep = ';')"
   ]
  },
  {
   "cell_type": "code",
   "execution_count": null,
   "metadata": {
    "colab": {
     "base_uri": "https://localhost:8080/",
     "height": 206
    },
    "id": "Wr1mJUbI5T1z",
    "outputId": "477b7364-e598-4203-a98c-4b5880d97a07"
   },
   "outputs": [],
   "source": [
    "homicide_rate_states.head()"
   ]
  },
  {
   "cell_type": "code",
   "execution_count": null,
   "metadata": {
    "colab": {
     "base_uri": "https://localhost:8080/",
     "height": 206
    },
    "id": "tIiXkN4o5gTG",
    "outputId": "c3918b7a-c858-4154-ee1b-dad135d32f58"
   },
   "outputs": [],
   "source": [
    "#Selecionando as colunas que precisamos\n",
    "homicide_rate_states = homicide_rate_states.drop(['nome'], axis = 1)\n",
    "homicide_rate_states.head()"
   ]
  },
  {
   "cell_type": "code",
   "execution_count": null,
   "metadata": {
    "colab": {
     "base_uri": "https://localhost:8080/",
     "height": 1000
    },
    "id": "bLAwymxu6aiI",
    "outputId": "e284b167-b0d6-42b5-bd8e-89a0f88160b9"
   },
   "outputs": [],
   "source": [
    "#Vamos pivotar nosso dataframe\n",
    "homicide_rate_states_T = homicide_rate_states.pivot_table(index = 'período', columns = 'cod', values = 'valor')\n",
    "homicide_rate_states_T"
   ]
  },
  {
   "cell_type": "code",
   "execution_count": null,
   "metadata": {
    "id": "AJv6anqk7Nf5"
   },
   "outputs": [],
   "source": [
    "homidicide_rate_states_T = homicide_rate_states_T.reset_index(inplace = True)\n"
   ]
  },
  {
   "cell_type": "code",
   "execution_count": null,
   "metadata": {
    "colab": {
     "base_uri": "https://localhost:8080/"
    },
    "id": "NUrso15A7aDR",
    "outputId": "9820c6d3-5cb6-4e77-969c-3c61cb723b6c"
   },
   "outputs": [],
   "source": [
    "print(homicide_rate_states_T)"
   ]
  },
  {
   "cell_type": "code",
   "execution_count": null,
   "metadata": {
    "colab": {
     "base_uri": "https://localhost:8080/",
     "height": 236
    },
    "id": "jRIny4ss7pvR",
    "outputId": "5be005ac-9054-4940-d47b-0ee427045804"
   },
   "outputs": [],
   "source": [
    "homicide_rate_states_T = homicide_rate_states_T.rename(columns = {'período': 'time'})\n",
    "homicide_rate_states_T.head()"
   ]
  },
  {
   "cell_type": "code",
   "execution_count": null,
   "metadata": {
    "colab": {
     "base_uri": "https://localhost:8080/"
    },
    "id": "UIVvqsEw1Kz4",
    "outputId": "b277d0e4-5ed5-43a5-b887-e02afe510be5"
   },
   "outputs": [],
   "source": [
    "homicide_rate_states_T = homicide_rate_states_T.drop(homicide_rate_states_T[homicide_rate_states_T.apply(lambda x: any(x == 0), axis=1)].index)\n",
    "print(homicide_rate_states_T)"
   ]
  },
  {
   "cell_type": "code",
   "execution_count": null,
   "metadata": {
    "id": "On0xnC2Y73mU",
    "tags": []
   },
   "outputs": [],
   "source": [
    "#Salvando nosso DF\n",
    "homicide_rate_states = homicide_rate_states_T\n",
    "homicide_rate_states.to_csv('/content/drive/MyDrive/Bases de Dados para Indicadores EUROFOUND/Bases Finais/homicide_rate_states.csv', encoding='UTF-8', index = False)"
   ]
  }
 ],
 "metadata": {
  "colab": {
   "provenance": []
  },
  "kernelspec": {
   "display_name": "Python 3 (ipykernel)",
   "language": "python",
   "name": "python3"
  },
  "language_info": {
   "codemirror_mode": {
    "name": "ipython",
    "version": 3
   },
   "file_extension": ".py",
   "mimetype": "text/x-python",
   "name": "python",
   "nbconvert_exporter": "python",
   "pygments_lexer": "ipython3",
   "version": "3.11.4"
  }
 },
 "nbformat": 4,
 "nbformat_minor": 4
}
